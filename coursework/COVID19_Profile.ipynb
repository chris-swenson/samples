{
 "cells": [
  {
   "cell_type": "markdown",
   "id": "interior-amazon",
   "metadata": {},
   "source": [
    "# Settings"
   ]
  },
  {
   "cell_type": "code",
   "execution_count": 1,
   "id": "metropolitan-belle",
   "metadata": {},
   "outputs": [],
   "source": [
    "# Specify the file location\n",
    "file_location = '../../Stat502_Project/data/covid.txt'\n",
    "\n",
    "# Specify the delimiter\n",
    "# Use \\t for tab\n",
    "file_delimiter = ','\n",
    "\n",
    "# Specify the location to save the report\n",
    "report_location = '../../Stat502_Project/reports/covid.html'\n",
    "\n",
    "# Specify any date or datetime columns\n",
    "#date_columns = ['list', 'of', 'date', 'columns']\n",
    "date_columns = ['last_date']"
   ]
  },
  {
   "cell_type": "markdown",
   "id": "broadband-video",
   "metadata": {},
   "source": [
    "# Packages"
   ]
  },
  {
   "cell_type": "code",
   "execution_count": 2,
   "id": "ultimate-graduate",
   "metadata": {},
   "outputs": [],
   "source": [
    "# Import packages\n",
    "import pandas as pd\n",
    "from pandas_profiling import ProfileReport"
   ]
  },
  {
   "cell_type": "markdown",
   "id": "linear-terrorism",
   "metadata": {},
   "source": [
    "# Import Data"
   ]
  },
  {
   "cell_type": "code",
   "execution_count": 3,
   "id": "portable-immigration",
   "metadata": {},
   "outputs": [
    {
     "data": {
      "text/html": [
       "<div>\n",
       "<style scoped>\n",
       "    .dataframe tbody tr th:only-of-type {\n",
       "        vertical-align: middle;\n",
       "    }\n",
       "\n",
       "    .dataframe tbody tr th {\n",
       "        vertical-align: top;\n",
       "    }\n",
       "\n",
       "    .dataframe thead th {\n",
       "        text-align: right;\n",
       "    }\n",
       "</style>\n",
       "<table border=\"1\" class=\"dataframe\">\n",
       "  <thead>\n",
       "    <tr style=\"text-align: right;\">\n",
       "      <th></th>\n",
       "      <th>fips</th>\n",
       "      <th>last_date</th>\n",
       "      <th>state_name</th>\n",
       "      <th>county_name</th>\n",
       "      <th>latitude</th>\n",
       "      <th>longitude</th>\n",
       "      <th>cbsa_rural</th>\n",
       "      <th>cbsa_type</th>\n",
       "      <th>county_type</th>\n",
       "      <th>cbsa_county_type</th>\n",
       "      <th>cases</th>\n",
       "      <th>deaths</th>\n",
       "      <th>population</th>\n",
       "      <th>cases_per_k</th>\n",
       "      <th>deaths_per_k</th>\n",
       "    </tr>\n",
       "  </thead>\n",
       "  <tbody>\n",
       "    <tr>\n",
       "      <th>0</th>\n",
       "      <td>45001</td>\n",
       "      <td>2022-03-07</td>\n",
       "      <td>South Carolina</td>\n",
       "      <td>Abbeville</td>\n",
       "      <td>34.223334</td>\n",
       "      <td>-82.461707</td>\n",
       "      <td>CBSA</td>\n",
       "      <td>Micropolitan Statistical Area</td>\n",
       "      <td>Outlying</td>\n",
       "      <td>Micro: Outlying</td>\n",
       "      <td>6615</td>\n",
       "      <td>67</td>\n",
       "      <td>24527</td>\n",
       "      <td>268.280813</td>\n",
       "      <td>2.717281</td>\n",
       "    </tr>\n",
       "    <tr>\n",
       "      <th>1</th>\n",
       "      <td>22001</td>\n",
       "      <td>2022-03-07</td>\n",
       "      <td>Louisiana</td>\n",
       "      <td>Acadia</td>\n",
       "      <td>30.295065</td>\n",
       "      <td>-92.414197</td>\n",
       "      <td>CBSA</td>\n",
       "      <td>Metropolitan Statistical Area</td>\n",
       "      <td>Outlying</td>\n",
       "      <td>Metro: Outlying</td>\n",
       "      <td>14988</td>\n",
       "      <td>287</td>\n",
       "      <td>62045</td>\n",
       "      <td>239.547372</td>\n",
       "      <td>4.587009</td>\n",
       "    </tr>\n",
       "    <tr>\n",
       "      <th>2</th>\n",
       "      <td>51001</td>\n",
       "      <td>2022-03-07</td>\n",
       "      <td>Virginia</td>\n",
       "      <td>Accomack</td>\n",
       "      <td>37.767072</td>\n",
       "      <td>-75.632346</td>\n",
       "      <td>Rural</td>\n",
       "      <td>Other</td>\n",
       "      <td>Other</td>\n",
       "      <td>Other</td>\n",
       "      <td>6915</td>\n",
       "      <td>103</td>\n",
       "      <td>32316</td>\n",
       "      <td>211.196628</td>\n",
       "      <td>3.145807</td>\n",
       "    </tr>\n",
       "    <tr>\n",
       "      <th>3</th>\n",
       "      <td>16001</td>\n",
       "      <td>2022-03-07</td>\n",
       "      <td>Idaho</td>\n",
       "      <td>Ada</td>\n",
       "      <td>43.452658</td>\n",
       "      <td>-116.241552</td>\n",
       "      <td>CBSA</td>\n",
       "      <td>Metropolitan Statistical Area</td>\n",
       "      <td>Central</td>\n",
       "      <td>Metro: Central</td>\n",
       "      <td>131024</td>\n",
       "      <td>992</td>\n",
       "      <td>481587</td>\n",
       "      <td>293.741537</td>\n",
       "      <td>2.223956</td>\n",
       "    </tr>\n",
       "    <tr>\n",
       "      <th>4</th>\n",
       "      <td>19001</td>\n",
       "      <td>2022-03-07</td>\n",
       "      <td>Iowa</td>\n",
       "      <td>Adair</td>\n",
       "      <td>41.330756</td>\n",
       "      <td>-94.471059</td>\n",
       "      <td>Rural</td>\n",
       "      <td>Other</td>\n",
       "      <td>Other</td>\n",
       "      <td>Other</td>\n",
       "      <td>1577</td>\n",
       "      <td>50</td>\n",
       "      <td>7152</td>\n",
       "      <td>221.364402</td>\n",
       "      <td>7.018529</td>\n",
       "    </tr>\n",
       "  </tbody>\n",
       "</table>\n",
       "</div>"
      ],
      "text/plain": [
       "    fips   last_date      state_name county_name   latitude   longitude  \\\n",
       "0  45001  2022-03-07  South Carolina   Abbeville  34.223334  -82.461707   \n",
       "1  22001  2022-03-07       Louisiana      Acadia  30.295065  -92.414197   \n",
       "2  51001  2022-03-07        Virginia    Accomack  37.767072  -75.632346   \n",
       "3  16001  2022-03-07           Idaho         Ada  43.452658 -116.241552   \n",
       "4  19001  2022-03-07            Iowa       Adair  41.330756  -94.471059   \n",
       "\n",
       "  cbsa_rural                      cbsa_type county_type cbsa_county_type  \\\n",
       "0       CBSA  Micropolitan Statistical Area    Outlying  Micro: Outlying   \n",
       "1       CBSA  Metropolitan Statistical Area    Outlying  Metro: Outlying   \n",
       "2      Rural                          Other       Other            Other   \n",
       "3       CBSA  Metropolitan Statistical Area     Central   Metro: Central   \n",
       "4      Rural                          Other       Other            Other   \n",
       "\n",
       "    cases  deaths  population  cases_per_k  deaths_per_k  \n",
       "0    6615      67       24527   268.280813      2.717281  \n",
       "1   14988     287       62045   239.547372      4.587009  \n",
       "2    6915     103       32316   211.196628      3.145807  \n",
       "3  131024     992      481587   293.741537      2.223956  \n",
       "4    1577      50        7152   221.364402      7.018529  "
      ]
     },
     "execution_count": 3,
     "metadata": {},
     "output_type": "execute_result"
    }
   ],
   "source": [
    "# Import data\n",
    "df = pd.read_csv(file_location, sep=file_delimiter, low_memory=False, parse_dates=True)\n",
    "\n",
    "# Show a few rows from the top of the data frame\n",
    "df.head()"
   ]
  },
  {
   "cell_type": "code",
   "execution_count": 4,
   "id": "stupid-assurance",
   "metadata": {},
   "outputs": [],
   "source": [
    "# Convert dates and datetimes\n",
    "for col in date_columns:\n",
    "    df[col] = pd.to_datetime(df[col])"
   ]
  },
  {
   "cell_type": "code",
   "execution_count": 5,
   "id": "innovative-workstation",
   "metadata": {},
   "outputs": [
    {
     "data": {
      "text/plain": [
       "fips                         int64\n",
       "last_date           datetime64[ns]\n",
       "state_name                  object\n",
       "county_name                 object\n",
       "latitude                   float64\n",
       "longitude                  float64\n",
       "cbsa_rural                  object\n",
       "cbsa_type                   object\n",
       "county_type                 object\n",
       "cbsa_county_type            object\n",
       "cases                        int64\n",
       "deaths                       int64\n",
       "population                   int64\n",
       "cases_per_k                float64\n",
       "deaths_per_k               float64\n",
       "dtype: object"
      ]
     },
     "execution_count": 5,
     "metadata": {},
     "output_type": "execute_result"
    }
   ],
   "source": [
    "# Check the column types\n",
    "df.dtypes"
   ]
  },
  {
   "cell_type": "markdown",
   "id": "lined-banner",
   "metadata": {},
   "source": [
    "# Profile"
   ]
  },
  {
   "cell_type": "code",
   "execution_count": 6,
   "id": "driven-script",
   "metadata": {},
   "outputs": [],
   "source": [
    "# Generate the profile\n",
    "profile = ProfileReport(df, title='Project Data Profile', explorative=True)"
   ]
  },
  {
   "cell_type": "code",
   "execution_count": 7,
   "id": "homeless-ghana",
   "metadata": {},
   "outputs": [
    {
     "data": {
      "application/vnd.jupyter.widget-view+json": {
       "model_id": "49827f4728e74349820c395d2dd8737a",
       "version_major": 2,
       "version_minor": 0
      },
      "text/plain": [
       "Summarize dataset:   0%|          | 0/28 [00:00<?, ?it/s]"
      ]
     },
     "metadata": {},
     "output_type": "display_data"
    },
    {
     "data": {
      "application/vnd.jupyter.widget-view+json": {
       "model_id": "57e7fbab988e49b6817315a05efb67a9",
       "version_major": 2,
       "version_minor": 0
      },
      "text/plain": [
       "Generate report structure:   0%|          | 0/1 [00:00<?, ?it/s]"
      ]
     },
     "metadata": {},
     "output_type": "display_data"
    },
    {
     "data": {
      "application/vnd.jupyter.widget-view+json": {
       "model_id": "",
       "version_major": 2,
       "version_minor": 0
      },
      "text/plain": [
       "Render widgets:   0%|          | 0/1 [00:00<?, ?it/s]"
      ]
     },
     "metadata": {},
     "output_type": "display_data"
    },
    {
     "data": {
      "application/vnd.jupyter.widget-view+json": {
       "model_id": "03a9acb479d343e3be879fb6aa6c219f",
       "version_major": 2,
       "version_minor": 0
      },
      "text/plain": [
       "VBox(children=(Tab(children=(Tab(children=(GridBox(children=(VBox(children=(GridspecLayout(children=(HTML(valu…"
      ]
     },
     "metadata": {},
     "output_type": "display_data"
    }
   ],
   "source": [
    "profile.to_widgets()"
   ]
  },
  {
   "cell_type": "code",
   "execution_count": 8,
   "id": "distant-browse",
   "metadata": {},
   "outputs": [
    {
     "data": {
      "application/vnd.jupyter.widget-view+json": {
       "model_id": "0aa0a204e5ef4809b6ce7e860ffd074a",
       "version_major": 2,
       "version_minor": 0
      },
      "text/plain": [
       "Render HTML:   0%|          | 0/1 [00:00<?, ?it/s]"
      ]
     },
     "metadata": {},
     "output_type": "display_data"
    },
    {
     "data": {
      "application/vnd.jupyter.widget-view+json": {
       "model_id": "d4baab9650514599a88b1013cc74ef82",
       "version_major": 2,
       "version_minor": 0
      },
      "text/plain": [
       "Export report to file:   0%|          | 0/1 [00:00<?, ?it/s]"
      ]
     },
     "metadata": {},
     "output_type": "display_data"
    }
   ],
   "source": [
    "# Save report to file\n",
    "profile.to_file(report_location)"
   ]
  }
 ],
 "metadata": {
  "kernelspec": {
   "display_name": "Python 3",
   "language": "python",
   "name": "python3"
  },
  "language_info": {
   "codemirror_mode": {
    "name": "ipython",
    "version": 3
   },
   "file_extension": ".py",
   "mimetype": "text/x-python",
   "name": "python",
   "nbconvert_exporter": "python",
   "pygments_lexer": "ipython3",
   "version": "3.9.7"
  }
 },
 "nbformat": 4,
 "nbformat_minor": 5
}
