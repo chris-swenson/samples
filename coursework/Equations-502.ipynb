{
 "cells": [
  {
   "cell_type": "markdown",
   "id": "c77777d7-772a-41c3-9196-ba50954d5cef",
   "metadata": {},
   "source": [
    "# Stat 502"
   ]
  },
  {
   "cell_type": "markdown",
   "id": "09508c84-1e51-4135-b4ca-69fcd2f65b67",
   "metadata": {
    "tags": []
   },
   "source": [
    "# Section 1"
   ]
  },
  {
   "cell_type": "markdown",
   "id": "33d14b3d-4878-48c4-9557-62eb827d3af4",
   "metadata": {},
   "source": [
    "Equations: \n",
    "- Use $ at beginning and end for \"inline\" equations. \n",
    "- Use $$ at beginning and end for \"display\" equations that are set apart from the text."
   ]
  },
  {
   "cell_type": "markdown",
   "id": "a805af01-c2d9-4244-89c2-94dedb443c46",
   "metadata": {},
   "source": [
    "e.g., \n",
    "$Y_{ijk} = \\mu_{...} + \\alpha_{i} + \\beta_{j} + \\gamma_{k} + \\epsilon_{ijk}$"
   ]
  },
  {
   "cell_type": "markdown",
   "id": "05fcb7a1-cb0b-4796-80f6-868cb83ceb5d",
   "metadata": {
    "toc-hr-collapsed": true
   },
   "source": [
    "## Lesson 2: ANOVA"
   ]
  },
  {
   "cell_type": "markdown",
   "id": "a7fe6b3b-9b44-4569-bafc-213e1bd56251",
   "metadata": {
    "tags": []
   },
   "source": [
    "$\n",
    "\\text{variance }=\\dfrac{\\sum(X_i-\\bar{X})^2}{N-1}=\\dfrac{SS}{df} \\\\\n",
    "$"
   ]
  },
  {
   "cell_type": "markdown",
   "id": "0fc299ea-a751-44af-95d9-6a9f47cc6d41",
   "metadata": {},
   "source": [
    "### Sums of Squares\n",
    "$\\text{Total SS} = \\text{SSTO} = \\sum_{i}\\sum_{j}(Y_{ij} - \\bar{Y}_{..})^2 = \\Sigma Y_{i}^{2}-\\dfrac{(\\Sigma Y_i)^2}{N}$  \n",
    "$\\text{Treatment SS} = \\text{SSTx} = \\sum_{i}n_i(\\bar{Y_{i.}} - \\bar{Y}_{..})^2 = \\sum_{i=1}^{T}\\dfrac{\\left( \\sum_{j=1}^{n_i}Y_{ij} \\right)^2}{n_i}-\\dfrac{(\\Sigma Y_i)^2}{N}$  \n",
    "$\\text{Error SS} = \\text{SSE} = \\sum_{i}\\sum_{j}(Y_{ij} - \\bar{Y}_{i.})^2 = \\text{Total SS} - \\text{Treatment SS}$"
   ]
  },
  {
   "cell_type": "markdown",
   "id": "c5d49623-5a30-408a-8029-776032896702",
   "metadata": {},
   "source": [
    "### Mean Squares and F\n",
    "$MS_{Trt} = \\dfrac{SS_{Trt}}{df_{Trt}}$  \n",
    "$MS_{Error} = \\dfrac{SS_{Error}}{df_{Error}}$  \n",
    "$F = \\dfrac{MS_{Trt}}{MS_{Error}} = \\dfrac{\\text{MS when \\(H_0\\) is true + non-centrality parameter}}{\\text{MS when \\(H_0\\) is true}}$"
   ]
  },
  {
   "cell_type": "markdown",
   "id": "81342d14-e2af-44c1-9253-6a2acd85a82f",
   "metadata": {},
   "source": [
    "### Tukey's Pairwise"
   ]
  },
  {
   "cell_type": "markdown",
   "id": "2d44251c-1f71-40e9-a759-d78085eb9aad",
   "metadata": {},
   "source": [
    "$w = q_{\\alpha(p, df_{Error})}\\cdot s_{\\bar{Y}}$  \n",
    "where: $q$ is obtained from a table of Tukey $q$ values,  \n",
    "$p$ = the number of treatment levels,  \n",
    "$s_{\\bar{Y}}$ = standard error of a treatment mean = $\\sqrt{MS_{Error} \\div r}$,  \n",
    "$r$ = number of replications"
   ]
  },
  {
   "cell_type": "markdown",
   "id": "a2012cea-a193-43be-b0a5-5c24e3f1ac01",
   "metadata": {
    "tags": []
   },
   "source": [
    "### Fisher’s Protected LSD"
   ]
  },
  {
   "cell_type": "markdown",
   "id": "8abe2e37-0c0e-4bf8-b5bd-b68e57c6788a",
   "metadata": {},
   "source": [
    "LSD = Least Significant Difference"
   ]
  },
  {
   "cell_type": "markdown",
   "id": "e109fabb-031f-44e4-bc40-94fc14317267",
   "metadata": {},
   "source": [
    "$\n",
    "\\text{LSD}(\\alpha)=t_{\\alpha,df}s_{\\bar{d}} \\text{ where } s_{\\bar{d}}=\\sqrt{\\frac{2s^2}{r}}\n",
    "$"
   ]
  },
  {
   "cell_type": "markdown",
   "id": "bf02e217-0ea7-49e9-82fb-b0d10f4349f0",
   "metadata": {},
   "source": [
    "Only Pairwise: Tukey  \n",
    "Only Control Comparison: Dunnett  \n",
    "Number of Contrasts $\\approx$ Number of Factor Levels: Bonferroni  \n",
    "All Contrasts: Scheffé (most conservative)"
   ]
  },
  {
   "cell_type": "markdown",
   "id": "1b6f176c-a993-4032-8407-d8fbfee91dfb",
   "metadata": {},
   "source": [
    "### Contrasts\n",
    "$A = \\sum_{i=1}^{T} a_{i} \\bar{y}_{i} \\text{ where } \\sum_{i=1}^{T} a_{i}=0$"
   ]
  },
  {
   "cell_type": "markdown",
   "id": "67a7f496-524c-4032-a2e5-3eb51842b6de",
   "metadata": {},
   "source": [
    "Orthogonal Contrasts: $\\sum_{i=1}^{T} a_{i}b_{i}=0$"
   ]
  },
  {
   "cell_type": "markdown",
   "id": "9d8c745f-4af6-4a24-a7d3-fd76f26b87d2",
   "metadata": {},
   "source": [
    "### Contrast Hypotheses\n",
    "$H_0\\colon \\sum_{i=1}^{T} a_{i} \\mu_{i}=0 \\text { vs. } H_A\\colon  \\sum_{i=1}^{T} a_{i} \\mu_{i} \\neq 0$  \n",
    "  \n",
    "$t=\\dfrac{\\sum_{i=1}^{T} a_{i} \\bar{y}_{i}}{\\sqrt{\\operatorname{MSE} \\sum_{i=1}^{T} \\frac{a_{i}^{2}}{n_i}}} \n",
    "\\text{ with } df = N - T$  \n",
    "OR  \n",
    "$F=\\dfrac{\\left(\\sum_{i=1}^{T} a_{i} \\bar{y}_{i}\\right)^{2}}{\\operatorname{MSE} \\sum_{i=1}^{T} \\frac{a_{i}^{2}}{n_i}} \n",
    "\\text{ with } df_1 = 1, df_2 = N - T$"
   ]
  },
  {
   "cell_type": "markdown",
   "id": "b4a70420-c783-46c7-a63e-2d4f9b139b3c",
   "metadata": {
    "toc-hr-collapsed": true
   },
   "source": [
    "## Lesson 3 & 4: ANOVA Models"
   ]
  },
  {
   "cell_type": "markdown",
   "id": "62978479-683b-47db-9677-9c39d784d912",
   "metadata": {},
   "source": [
    "### Deviance\n",
    "$\\underbrace{Y_{ij}-\\bar{Y}_{..}}_{1} = \n",
    "\\underbrace{\\bar{Y}_{i.}-\\bar{Y}_{..}}_{2} + \n",
    "\\underbrace{Y_{ij}-\\bar{Y}_{i.}}_{3}$  \n",
    "where: 1 = total deviation, 2 = deviation of factor mean from overall, 3 = deviation of obs from factor mean"
   ]
  },
  {
   "cell_type": "markdown",
   "id": "375b9aaa-1cc9-4882-95c4-acbdb1c850a4",
   "metadata": {
    "tags": []
   },
   "source": [
    "### Models"
   ]
  },
  {
   "cell_type": "markdown",
   "id": "20b0a633-bc28-484c-b77e-1c9c1c20cd8b",
   "metadata": {},
   "source": [
    "Overall Mean: $Y_{ij} = \\mu+\\epsilon_{ij}$  \n",
    "Cell Means: $Y_{ij} = \\mu_i+\\epsilon_{ij}$  \n",
    "Dummy: $Y_{ij} = \\mu+\\mu_i+\\epsilon_{ij}$ fitted as $Y_{ij} = \\beta_0+\\beta_{Level1}+ \\cdots +\\beta_{Levelr-1}+\\epsilon_{ij}$  \n",
    "Effects: $Y_{ij} = \\mu+\\tau_i+\\epsilon_{ij}$ where $\\sum_{i=1}^T\\tau_i=0$  "
   ]
  },
  {
   "cell_type": "markdown",
   "id": "414b9bc6-95f5-42b7-8616-43474a7ce63e",
   "metadata": {
    "tags": []
   },
   "source": [
    "### Design Matrices"
   ]
  },
  {
   "cell_type": "markdown",
   "id": "b242dc09-f114-4432-98d8-4dd78b4acc03",
   "metadata": {},
   "source": [
    "General Linear Model: $\\mathbf{Y}=\\mathbf{X}\\boldsymbol{\\beta}+\\boldsymbol{\\mathcal{E}}$ "
   ]
  },
  {
   "cell_type": "markdown",
   "id": "ff14ed9d-c80b-4b25-aaa0-936feea059b3",
   "metadata": {},
   "source": [
    "$\n",
    "\\begin{matrix}\n",
    " & Mean & Cell & Dummy & Effects \\\\\n",
    "\\mathbf{X} = \n",
    "&\n",
    "\\begin{bmatrix}1\\\\1\\\\1\\\\1\\\\1\\\\1\\end{bmatrix}\n",
    "&\n",
    "\\begin{bmatrix} \n",
    "1 & 0 & 0\\\\\n",
    "1 & 0 & 0\\\\\n",
    "0 & 1 & 0\\\\\n",
    "0 & 1 & 0\\\\\n",
    "0 & 0 & 1\\\\\n",
    "0 & 0 & 1 \n",
    "\\end{bmatrix}\n",
    "& \n",
    "\\begin{bmatrix}\n",
    "1 & 1 & 0\\\\\n",
    "1 & 1 & 0\\\\\n",
    "1 & 0 & 1\\\\\n",
    "1 & 0 & 1\\\\\n",
    "1 & 0 & 0\\\\\n",
    "1 & 0 & 0\n",
    "\\end{bmatrix}\n",
    "& \n",
    "\\begin{bmatrix}\n",
    "1 & 1 & 0\\\\\n",
    "1 & 1 & 0\\\\\n",
    "1 & 0 & 1\\\\\n",
    "1 & 0 & 1\\\\\n",
    "1 & -1 & -1\\\\\n",
    "1 & -1 & -1\n",
    "\\end{bmatrix} \\\\\n",
    "\\boldsymbol{\\beta} = \n",
    "& [\\mu_.]\n",
    "& \n",
    "\\begin{bmatrix}\n",
    "\\mu_1\\\\\n",
    "\\mu_2\\\\\n",
    "\\mu_3\n",
    "\\end{bmatrix} \n",
    "&\n",
    "\\begin{bmatrix}\\mu_3\\\\\\tau_1\\\\\\tau_2\\end{bmatrix}\n",
    "&\n",
    "\\begin{bmatrix}\\mu_.\\\\\\tau_1\\\\\\tau_2\\end{bmatrix} \\\\\n",
    "\\beta_0 = & \\text{grand mean} & \\text{mean 1} & \\text{reference} & \\text{grand mean} \\\\\n",
    "\\mu_3 = & . & \\beta_2 & \\beta_0 & \\mu_. -\\tau_{1} - \\tau_{2}\n",
    "\\end{matrix}\n",
    "$"
   ]
  },
  {
   "cell_type": "markdown",
   "id": "4dde1e43-4e4c-4233-9844-939d7cd86ad4",
   "metadata": {},
   "source": [
    "### Least Squares\n",
    "$\\hat{\\boldsymbol \\beta}= (\\mathbf{X}^{'} \\mathbf{X} ) ^{-1} \\mathbf{X}^{' } \\mathbf{Y}$"
   ]
  },
  {
   "cell_type": "markdown",
   "id": "e27765c2-4dc7-4016-bb90-88da816f526b",
   "metadata": {},
   "source": [
    "### General Linear Test\n",
    "$F=\\left(\\dfrac{SSE(R)-SSE(F)}{df_R-df_F}\\right) \\div \\left(\\dfrac{SSE(F)}{df_F}\\right)$"
   ]
  },
  {
   "cell_type": "markdown",
   "id": "24f8d2d7-bcc8-450f-a32d-3d1a53aa942b",
   "metadata": {},
   "source": [
    "### Box-Cox Method\n",
    "$y_i^{(\\lambda)} = \\begin{cases} \\frac{y_i^\\lambda - 1}{\\lambda},& \\text{if } \\lambda \\neq 0,\\\\ \\ln y_i, & \\text{if } \\lambda = 0 \\end{cases}$"
   ]
  },
  {
   "cell_type": "markdown",
   "id": "55e1fd5e-9ec8-4a42-9fbe-10b14ba31689",
   "metadata": {
    "toc-hr-collapsed": true
   },
   "source": [
    "## Lesson 5: Multi-Factor ANOVA"
   ]
  },
  {
   "cell_type": "markdown",
   "id": "e21b930e-e3d5-4f68-96ad-fe17c5888d14",
   "metadata": {},
   "source": [
    "### Multi-Factor Model\n",
    "Significant Interaction: $Y_{ijk}=\\mu+ \\alpha_i+\\beta_j+(\\alpha\\beta)_{ij} +\\epsilon_{ijk}$  \n",
    "Additive Model (No Interaction): $Y_{ij}=\\mu_{..}+\\alpha_i+\\beta_j+\\epsilon_{ijk}$"
   ]
  },
  {
   "cell_type": "markdown",
   "id": "b1708f18-2fbd-478e-9d2f-d80b495c5c9d",
   "metadata": {},
   "source": [
    "### Model Partitioning\n",
    "$\n",
    "\\underbrace{\\bar{Y}_{ij.}-\\bar{Y}_{...}}_{\\substack{\\text{Deviation of estimated treatment mean} \\\\ \\text{ around overall mean}}} = \\underbrace{\\bar{Y}_{i..}-\\bar{Y}_{...}}_{\\text{A main effect}} + \\underbrace{\\bar{Y}_{.j.}-\\bar{Y}_{...}}_{\\text{B main effect}} +\\underbrace{\\bar{Y}_{ij.}-\\bar{Y}_{i..}-\\bar{Y}_{.j.}+\\bar{Y}_{...}}_{\\text{AB interaction effect}}\n",
    "$"
   ]
  },
  {
   "cell_type": "markdown",
   "id": "07310643-faa2-49ef-8ec9-7f77806137c8",
   "metadata": {},
   "source": [
    "### Hypothesis Testing\n",
    "Factor A: $H_0 \\colon \\alpha_{1} =\\alpha_{2}= \\cdots =\\alpha_{a} = 0; H_A \\colon \\text{ not all }\\alpha_{i} \\text{ are equal zero}$  \n",
    "Factor B: $H_0 \\colon \\beta_{1} =\\beta_{2}= \\cdots =\\beta_{b} = 0; H_A \\colon \\text{ not all }\\beta_{j} \\text{ are equal zero}$  \n",
    "Interaction: $H_0 \\colon \\text{ there is no interaction }; H_A \\colon \\text{ an interaction exists }$"
   ]
  },
  {
   "cell_type": "markdown",
   "id": "6156c912-85e9-4175-9a80-348b68c9165f",
   "metadata": {},
   "source": [
    "### Nested Model\n",
    "Partitioning: $\\underbrace{Y_{ijk}-\\bar{Y}_{...}}_{\\text{Total deviation}} = \\underbrace{\\bar{Y}_{i..}-\\bar{Y}_{...}}_{\\text{A main effect}} + \\underbrace{\\bar{Y}_{ij.}-\\bar{Y}_{i..}}_{\\text{Specific B effect when } \\\\ \\text{A at the }i^{th} \\text{level}} + \\underbrace{Y_{ijk}-\\bar{Y}_{ij.}}_{\\text{Residual}}$  \n",
    "Model: $Y_{ijk}=\\mu+\\alpha_{i}+\\beta_{j(i)}+\\epsilon_{ijk}$ where $\\sum\\alpha_i=0$ and $\\sum_j\\beta_{j(i)}=0$"
   ]
  },
  {
   "cell_type": "markdown",
   "id": "2287e761-59a6-41e3-8109-623d9f4ae12c",
   "metadata": {},
   "source": [
    "### Nested Hypotheses\n",
    "Factor A: $H_0 \\colon \\text{ all } \\alpha_i=0; H_A \\colon \\text{ Not all equal }$  \n",
    "Factor B: $H_0 \\colon \\text{ all }\\beta_{j(i)} =0; H_A \\colon \\text{ not all }\\beta_{j(i)} =0$"
   ]
  },
  {
   "cell_type": "markdown",
   "id": "b07e329d-5e9a-4920-9714-8cabb6fae5e9",
   "metadata": {},
   "source": [
    "### Crossed-Nested\n",
    "$Y_{ijkl}=\\mu+\\alpha_i+\\beta_{j(i)}+\\gamma_k+(\\alpha\\gamma)_{ik}+(\\beta\\gamma)_{j(i)k}+\\epsilon_{ijkl}$"
   ]
  },
  {
   "cell_type": "markdown",
   "id": "5efc351a-b48d-4c2a-bea2-5d9d1b66fd0b",
   "metadata": {
    "tags": []
   },
   "source": [
    "# Section 2"
   ]
  },
  {
   "cell_type": "markdown",
   "id": "9967b283-b191-4014-ba64-83307a75fe96",
   "metadata": {
    "tags": [],
    "toc-hr-collapsed": true
   },
   "source": [
    "## Lesson 6: Random Effects & Mixed Models"
   ]
  },
  {
   "cell_type": "markdown",
   "id": "25d9cce2-b999-4a3c-8338-cb110647d828",
   "metadata": {
    "tags": []
   },
   "source": [
    "### Single-Factor Random Effects\n",
    "Model: $Y_{ij}=\\mu_i+\\epsilon_{ij} \\text{ where } \\mu_i \\overset{iid}{\\sim} \\mathcal{N}\\left(\\mu, \\sigma^2_{\\mu}\\right), \\epsilon_{ij} \\overset{iid}{\\sim} \\mathcal{N}\\left(0, \\sigma_{\\epsilon}^2\\right)$  \n",
    "Effects: $Y_{ij} = \\mu + \\tau_i+\\epsilon_{ij} \\text{ where } \\tau_i \\overset{iid}{\\sim} \\mathcal{N}\\left(0, \\sigma^2_{\\mu}\\right), \\epsilon_{ij} \\overset{iid}{\\sim} \\mathcal{N}\\left(0, \\sigma_{\\epsilon}^2\\right)$  \n",
    "Expected: $E\\left(Y_{ij}\\right) = E\\left(\\mu_i + \\epsilon_{ij}\\right)  =  E\\left(\\mu_i\\right) + E\\left(\\epsilon_{ij}\\right) = \\mu$  "
   ]
  },
  {
   "cell_type": "markdown",
   "id": "b8b67d2a-4327-49ab-b776-33c35e50c17c",
   "metadata": {},
   "source": [
    "Variance: $\\sigma^2_{Y} = V\\left(Y_{ij}\\right) = V\\left(\\mu_i + \\epsilon_{ij}\\right) = V\\left(\\mu_i\\right) + V\\left(\\epsilon_{ij}\\right) = \\sigma _{\\mu}^{2}+\\sigma_{\\epsilon}^2$  \n",
    "Variance Components: $s_{\\text{among trts}}^{2} = \\dfrac{MS_{trt}-MS_{error}}{n} = \\dfrac{(\\sigma^2_\\epsilon + n \\sigma^2_\\mu) - \\sigma_{\\epsilon}^{2}}{n} = \\sigma^2_\\mu$"
   ]
  },
  {
   "cell_type": "markdown",
   "id": "ccad5073-63d2-4393-9b12-19e65ca08310",
   "metadata": {},
   "source": [
    "Intra-Class Correlation: $\\text{ICC} = \\dfrac{\\sigma_{\\text{among trts}}^{2}}{\\sigma_{\\text{among trts}}^{2}+\\sigma_{\\text{within trts}}^{2}}$  "
   ]
  },
  {
   "cell_type": "markdown",
   "id": "e9303f71-5eb9-462d-a535-239113a97104",
   "metadata": {},
   "source": [
    "\"ICC can also be thought of as the correlation between the observations within the group. Small values of ICC indicate a large spread of values at each level of the treatment, whereas large values of ICC indicate relatively little spread at each level of the treatment.\"  "
   ]
  },
  {
   "cell_type": "markdown",
   "id": "e9caae3a-5ae7-4996-81f1-6be47c3720d0",
   "metadata": {},
   "source": [
    "Estimated Observational Variance: $\\text{Cov}_A + \\text{Cov}_B + \\text{Var}_\\text{Residual}$ (from Cov Param Est table)  \n",
    "Estimated Observational Covariance: $\\text{Cov}_A + \\text{Cov}_B$ (from Cov Param Est table; excludes Residual Var)"
   ]
  },
  {
   "cell_type": "markdown",
   "id": "a08a0a34-c159-4181-b11e-b9d6a778a6bd",
   "metadata": {},
   "source": [
    "Hypothesis: $H_0 \\colon \\sigma_{\\mu}^{2}= 0; H_A \\colon \\sigma_{\\mu}^{2}> 0$"
   ]
  },
  {
   "cell_type": "markdown",
   "id": "0d73c71e-dbc5-4ba4-ae29-33a3cb32613a",
   "metadata": {},
   "source": [
    "### Fully Nested Random Effects\n",
    "$Y_{ijkl}=\\mu+\\alpha_i+\\beta_{j(i)}+\\gamma_{k(ij)}+\\epsilon_{ijkl}$  \n",
    "where: $\\epsilon_{ijkl} \\overset{iid}{\\sim} \\mathcal{N}\\left(0, \\sigma^2\\right), \\gamma_{k(ij)} \\sim \\mathcal{N}\\left(0, \\sigma^2_{\\gamma}\\right), \\beta_{i(j)} \\sim \\mathcal{N}\\left(0, \\sigma^2_{\\beta}\\right), \\alpha_{i} \\sim \\mathcal{N}\\left(0, \\sigma^2_{\\alpha}\\right)$"
   ]
  },
  {
   "cell_type": "markdown",
   "id": "a58e307e-79b8-4dc1-90d8-8541d78cf885",
   "metadata": {},
   "source": [
    "### Mixed Models: Factorial\n",
    "$y_{ijk} = \\mu + \\alpha_i + \\beta_j + (\\alpha\\beta)_{ij} + \\epsilon_{ijk}$  \n",
    "where: $\\sum_{i} \\alpha_i = 0, \\beta_j \\sim \\mathcal{N}\\left(0, \\sigma^2_{\\beta}\\right), (\\alpha\\beta)_{ij} \\sim \\mathcal{N}\\left(0, \\frac{a-1}{a}\\sigma^2_{\\alpha\\beta}\\right), \\epsilon_{ijk} \\sim \\mathcal{N}\\left(0, \\sigma^2\\right)$"
   ]
  },
  {
   "cell_type": "markdown",
   "id": "34e74caf-12fe-473a-abab-436c195b3a0e",
   "metadata": {},
   "source": [
    "### Mixed Models: Nested\n",
    "$y_{ijk} = \\mu + \\alpha_i + \\beta_{j(i)} + \\epsilon_{ijk}$  \n",
    "where: $\\sum_{i} \\alpha_i = 0, \\beta_j \\sim \\mathcal{N}\\left(0, \\sigma^2_{\\beta}\\right), \\epsilon_{ijk} \\sim \\mathcal{N}\\left(0, \\sigma^2\\right)$"
   ]
  },
  {
   "cell_type": "markdown",
   "id": "dd1a4546-11ca-4e5f-aa57-f05d25843f2f",
   "metadata": {
    "toc-hr-collapsed": true
   },
   "source": [
    "## Lesson 7 & 8: Randomization"
   ]
  },
  {
   "cell_type": "markdown",
   "id": "10c92277-4a81-40ce-a946-7bdfe22df4b6",
   "metadata": {},
   "source": [
    "### Randomized Complete Block Design (RCBD)\n",
    "Model: $Y_{ij} = \\mu + \\rho_i + \\tau_j + \\epsilon_{ij} \\text{ where } \\rho_i \\sim \\mathcal{N}\\left(0, \\sigma^2_{\\rho}\\right), \\epsilon_{ij}\\sim \\mathcal{N}\\left(0, \\sigma^2\\right)$"
   ]
  },
  {
   "cell_type": "markdown",
   "id": "e31f65ca-b75f-49c3-8371-3aaaa035e9cf",
   "metadata": {},
   "source": [
    "### Split-Plot in RCBD\n",
    "Model: $Y_{ijk} = \\mu + \\alpha_i + \\gamma_k + (\\alpha\\gamma)_{ik} + \\beta_j + (\\alpha\\beta)_{ij} + \\epsilon_{ijk}$  \n",
    "Note: No 3-way interaction!"
   ]
  },
  {
   "cell_type": "markdown",
   "id": "ae4fb037-fe08-48fd-a19b-8d186a54eac2",
   "metadata": {},
   "source": [
    "### Split-Plot in CRD\n",
    "Model: $Y_{ijk} = \\mu + \\alpha_i + \\gamma_{k(i)} + \\beta_j + (\\alpha\\beta)_{ij} + \\epsilon_{ijk}$  \n",
    "Note: No 3-way interaction! No 2-way interaction between $\\alpha$ and $\\gamma$!"
   ]
  },
  {
   "cell_type": "markdown",
   "id": "fda6931e-b473-4ac2-9dd9-aaf8e0333b87",
   "metadata": {},
   "source": [
    "# Section 3"
   ]
  },
  {
   "cell_type": "markdown",
   "id": "de10a2d5-d174-4595-935e-43b55b905531",
   "metadata": {
    "toc-hr-collapsed": true
   },
   "source": [
    "## Lesson 9 & 10: ANCOVA"
   ]
  },
  {
   "cell_type": "markdown",
   "id": "b3a0f00d-db27-40d9-ae76-4ee509a0056c",
   "metadata": {},
   "source": [
    "### ANCOVA in GLM\n",
    "Regression Model: $Y_i=\\beta_0+\\beta_1 X_i+ \\epsilon_i$  \n",
    "ANCOVA Model: $Y_{ij}=\\mu+\\tau_i+\\gamma X^* +\\epsilon_{ij} \\text{ where } X^*=X_{ij}-\\bar{X}_{..}$"
   ]
  },
  {
   "cell_type": "markdown",
   "id": "906d1533-88f6-4b73-a49c-ac2c4d8f681c",
   "metadata": {},
   "source": [
    "### Orthogonal Polynomials\n",
    "Model: $y = \\beta_0 + \\beta_1 x + \\beta_2 x^2 + \\cdots + \\beta_k x^k + \\epsilon$  \n",
    "Model with Orthogonal Coefficients: $y_{ij} = \\alpha_0 + \\alpha_1 g_{1i}(x) + \\alpha_2 g_{2i}(x) + \\cdots + \\alpha_k g_{ki}(x)+\\epsilon_{ij}$  \n",
    "where: \n",
    "$g_{pi}(x)$ is a polynomial in $x$ of degree $p$, and $\\alpha_p$ depends on the coefficients $\\beta_p$  \n",
    "  \n",
    "Mean: $g_0(x)=1$  \n",
    "Linear: $g_1(x)=\\lambda_1 \\left( \\dfrac{x-\\bar{x}}{d}\\right)$  \n",
    "Quadratic: $g_2(x)=\\lambda_2 \\left( \\left(\\dfrac{x-\\bar{x}}{d}\\right)^2-\\left( \\dfrac{t^2-1}{12} \\right)\\right)$  \n",
    "Cubic: $g_3(x)=\\lambda_3 \\left( \\left(\\dfrac{x-\\bar{x}}{d}\\right)^3- \\left(\\dfrac{x-\\bar{x}}{d}\\right)\\left( \\dfrac{3t^2-7}{20} \\right)\\right)$  \n",
    "Quartic: $g_4(x) = \\lambda_4 \\left( \\left( \\dfrac{x - \\bar{x}}{d} \\right)^4 - \\left( \\dfrac{x - \\bar{x}}{d} \\right)^2 \\left( \\dfrac{3t^2 - 13}{14} \\right)+ \\dfrac{3 \\left(t^2 - 1\\right) \\left(t^2 - 9 \\right)}{560} \\right)$  \n",
    "  \n",
    "where $t$ = # of levels of factor, $x$ = value of the factor level, $\\bar{x}$ = mean of factor levels, and $d$ = distance between factor levels"
   ]
  },
  {
   "cell_type": "markdown",
   "id": "22accfe8-b16f-4f37-a9b7-710d2cb9446f",
   "metadata": {
    "tags": [],
    "toc-hr-collapsed": true
   },
   "source": [
    "## Lesson 11 & 12: Repeated Measures"
   ]
  },
  {
   "cell_type": "markdown",
   "id": "792209db-e1eb-4eb2-b13c-0927e51a723d",
   "metadata": {},
   "source": [
    "### Covariance Structures\n",
    "$\\Sigma_i=\\begin{bmatrix} \\sigma_{1}^2 & \\sigma_{12} & \\ldots & \\sigma_{1n_i}\\\\\n",
    "\\sigma_{21} & \\sigma^2_{2} & &\\sigma_{2n_i}\\\\\n",
    "\\vdots & & \\ddots & \\vdots\\\\\n",
    "\\sigma_{n_i1} & \\sigma_{n_i2} & \\ldots & \\sigma^2_{p}\n",
    "\\end{bmatrix}\n",
    "$  \n",
    "This is the general structure we will use to with assumptions - see below."
   ]
  },
  {
   "cell_type": "markdown",
   "id": "417cc51e-c1f3-4de4-ac51-9f9affef1122",
   "metadata": {},
   "source": [
    "### Variance Components (VC)\n",
    "$\n",
    "\\Sigma_i=\\begin{bmatrix} \\sigma_1^2 & 0 & \\cdots & 0\\\\ 0 & \\sigma_1^2 & \\ddots & \\vdots\\\\ \\vdots & \\ddots & \\sigma_1^2 & 0\\\\ 0 & \\cdots & 0 & \\sigma_1^2 \\end{bmatrix}\n",
    "$  \n",
    "Assumes correlations within a subject are 0."
   ]
  },
  {
   "cell_type": "markdown",
   "id": "747ac967-9ecf-4e6a-aac1-6c5bba33e7ed",
   "metadata": {},
   "source": [
    "### Compound Symmetry (CS)\n",
    "$\n",
    "\\Sigma_i=\\sigma^2 \\begin{bmatrix} 1.0 & \\rho & \\rho & \\rho \\\\ & 1.0 & \\rho & \\rho \\\\ & & 1.0 & \\rho \\\\ & & & 1.0 \\end{bmatrix} = \\begin{bmatrix} \\sigma_b^2+\\sigma_e^2 & \\sigma_b^2 & \\sigma_b^2 & \\sigma_b^2 \\\\ & \\sigma_b^2+\\sigma_e^2 & \\sigma_b^2 & \\sigma_b^2 \\\\ & & \\sigma_b^2+\\sigma_e^2 & \\sigma_b^2 \\\\ & & & \\sigma_b^2+\\sigma_e^2 \\end{bmatrix}\n",
    "$  \n",
    "Assumes correlations within a subject are the same. "
   ]
  },
  {
   "cell_type": "markdown",
   "id": "3dcd48f4-0594-4130-bac0-4b9e83fe59b6",
   "metadata": {},
   "source": [
    "### First-Order Autoregressive [AR(1)]\n",
    "$\n",
    "\\Sigma_i=\\sigma^2 \\begin{bmatrix} 1.0 & \\rho & \\rho^2 & \\rho^3 \\\\ & 1.0 & \\rho & \\rho^2 \\\\ & & 1.0 & \\rho \\\\ & & & 1.0 \\end{bmatrix}\n",
    "$  \n",
    "Assumes correlations are highest between adjacent times and decrease over time."
   ]
  },
  {
   "cell_type": "markdown",
   "id": "51505bb3-ee9f-486a-8343-191e9f7934f1",
   "metadata": {},
   "source": [
    "### Spatial Power [SP(POW)]\n",
    "$\n",
    "\\Sigma_i=\\sigma^2 \\begin{bmatrix} 1.0 & \\rho^{\\frac{|t_1-t_2|}{|t_1-t_2|}} & \\rho^{\\frac{|t_1-t_3|}{|t_1-t_2|}} & \\rho^{\\frac{|t_1-t_4|}{|t_1-t_2|}} \\\\ & 1.0 & \\rho^{\\frac{|t_2-t_3|}{|t_1-t_2|}} & \\rho^{\\frac{|t_2-t_4|}{|t_1-t_2|}} \\\\ & & 1.0 & \\rho^{\\frac{|t_3-t_4|}{|t_1-t_2|}} \\\\ & & & 1.0 \\end{bmatrix}\n",
    "$  \n",
    "Assumes correlations are highest between adjacent times and decrease over time.  \n",
    "Differences with AR(1) is that it does not need to have equally-spaced periods."
   ]
  },
  {
   "cell_type": "markdown",
   "id": "3ed7491d-6a94-4a77-96ee-2047bea0afa1",
   "metadata": {},
   "source": [
    "### Unstructured (UN)\n",
    "$\n",
    "\\Sigma_i=\\begin{bmatrix} \\sigma_1^2 & \\sigma_{12} & \\sigma_{13} & \\sigma_{14} \\\\ & \\sigma_2^2 & \\sigma_{23} & \\sigma_{24} \\\\ & & \\sigma_3^2 & \\sigma_{34}\\\\ & & & \\sigma_4^2 \\end{bmatrix}\n",
    "$  \n",
    "Assumes correlations are all different. This may not be computable."
   ]
  },
  {
   "cell_type": "markdown",
   "id": "0183e448-fa50-4095-b5da-08548b91ed5a",
   "metadata": {
    "tags": []
   },
   "source": [
    "### Cross-Over Repeated Measures"
   ]
  },
  {
   "cell_type": "markdown",
   "id": "62d7b0e0-7670-4ab3-be3e-3dabc4d7088a",
   "metadata": {},
   "source": [
    "Carry-Over Effects Hypothesis Testing:  \n",
    "$\\Delta G^2=(-2logL_{Reduced})-(-2logL_{Full}) \\sim \\chi^2_{1-\\alpha; df}$ with $df_{Reduced}-df_{Full}$"
   ]
  }
 ],
 "metadata": {
  "kernelspec": {
   "display_name": "Python 3",
   "language": "python",
   "name": "python3"
  },
  "language_info": {
   "codemirror_mode": {
    "name": "ipython",
    "version": 3
   },
   "file_extension": ".py",
   "mimetype": "text/x-python",
   "name": "python",
   "nbconvert_exporter": "python",
   "pygments_lexer": "ipython3",
   "version": "3.9.7"
  }
 },
 "nbformat": 4,
 "nbformat_minor": 5
}
